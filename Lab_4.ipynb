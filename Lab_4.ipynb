{
  "nbformat": 4,
  "nbformat_minor": 0,
  "metadata": {
    "colab": {
      "provenance": [],
      "collapsed_sections": [],
      "include_colab_link": true
    },
    "kernelspec": {
      "name": "python3",
      "display_name": "Python 3"
    },
    "language_info": {
      "name": "python"
    }
  },
  "cells": [
    {
      "cell_type": "markdown",
      "metadata": {
        "id": "view-in-github",
        "colab_type": "text"
      },
      "source": [
        "<a href=\"https://colab.research.google.com/github/terrence-brian/Compiler-Construction/blob/main/Lab_4.ipynb\" target=\"_parent\"><img src=\"https://colab.research.google.com/assets/colab-badge.svg\" alt=\"Open In Colab\"/></a>"
      ]
    },
    {
      "cell_type": "markdown",
      "source": [
        "**Group members**\n",
        "\n",
        "**ICS 4B**\n",
        "* Regina Mbari - 121543\n",
        "* Kathlene Sumba - 120689\n",
        "* Natalie Aoya - 121600\n",
        "* Levi Kamara - 123558\n",
        "* Terrence Oyoo - 122846"
      ],
      "metadata": {
        "id": "0F180wlnkxfK"
      }
    },
    {
      "cell_type": "markdown",
      "source": [
        "# Lab Activity 4 (Understanding Predictive Parsing)\n",
        "\n",
        "1. **Using an example or illustration, explain what is predictive parsing?**\n",
        "> Predictive parsing is a type of recursive descent parsing in which no backtracking is required. The goal of predictive parsing is to build a top-down parser that never backtracks. To accomplish this, we must transform a grammar in two ways:\n",
        "    * eliminate left recursion, and\n",
        "    * carry out left factoring\n",
        "> An example of predictive parsing is clearly shown below\n",
        "![picture](https://drive.google.com/uc?export=view&id=105b9_rSONvM4PspVY8C2mUBEXgMNTns8)\n",
        "\n",
        "2. **As an extension to question 1,**\n",
        "> **a. What is LL (1) parsing?**It is a top-down parsing technique used in the compiler design's syntax analysis stage that uses a one-token lookahead.\n",
        "> **b. Why do we get the First () and Follow () i.e. what do these two functions Really Represent?**\n",
        "  * The First and Follow  functions aid in the construction of a predictive parser table.\n",
        "  * The First function aids in the generation of terminals at the start, whereas the Follow function generates terminals on the immediate right.\n",
        "3. **Are there any unique attributes associated with Top-Down parsing?**\n",
        "> Parsing begins at the root and progresses to the leaves of the parse tree.\n",
        "   They are devoid of ambiguity.\n"
      ],
      "metadata": {
        "id": "Z5cOyaeDiRIC"
      }
    }
  ]
}