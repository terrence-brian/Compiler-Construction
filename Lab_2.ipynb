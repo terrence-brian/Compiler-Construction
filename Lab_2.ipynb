{
  "nbformat": 4,
  "nbformat_minor": 0,
  "metadata": {
    "colab": {
      "provenance": [],
      "collapsed_sections": [],
      "include_colab_link": true
    },
    "kernelspec": {
      "name": "python3",
      "display_name": "Python 3"
    },
    "language_info": {
      "name": "python"
    }
  },
  "cells": [
    {
      "cell_type": "markdown",
      "metadata": {
        "id": "view-in-github",
        "colab_type": "text"
      },
      "source": [
        "<a href=\"https://colab.research.google.com/github/terrence-brian/Compiler-Construction/blob/main/Lab_2.ipynb\" target=\"_parent\"><img src=\"https://colab.research.google.com/assets/colab-badge.svg\" alt=\"Open In Colab\"/></a>"
      ]
    },
    {
      "cell_type": "markdown",
      "source": [
        "**Group members**\n",
        "\n",
        "**ICS 4B**\n",
        "* Regina Mbari - 121543\n",
        "* Kathlene Sumba - 120689\n",
        "* Natalie Aoya - 121600\n",
        "* Levi Kamara - 123558\n",
        "* Terrence Oyoo - 122846"
      ],
      "metadata": {
        "id": "oaa8biAZqtFL"
      }
    },
    {
      "cell_type": "markdown",
      "source": [
        "\n",
        "\n",
        "1.   Conversion of NFA to DFA\n",
        "\n",
        "\n",
        "> *   Example 1\n",
        "![picture](https://drive.google.com/uc?export=view&id=1JN5yzn7NbHn8Gek5bQJPbter0HW_0RrZ)\n",
        "\n",
        "\n",
        "> *   Example 2\n",
        "![picture](https://drive.google.com/uc?export=view&id=1hnh-JObKILjGnuF-XX20eboFoQ-OhrjS)\n",
        "\n",
        "\n",
        "\n",
        "\n",
        "\n",
        "\n",
        "\n",
        "\n",
        "\n",
        "\n",
        "\n",
        "\n"
      ],
      "metadata": {
        "id": "5HGYHLC3qwQr"
      }
    },
    {
      "cell_type": "markdown",
      "source": [],
      "metadata": {
        "id": "X_FbHsU35q9S"
      }
    },
    {
      "cell_type": "markdown",
      "source": [
        "2. Using Flex and Bison to build a simple lexical analyzer\n",
        "\n",
        "\n",
        "> *  In order to specify the scanner one intends to build, you should come up with a specification file with a .l extension that has patterns to match and actions to apply for each token. The patterns are written using regular expressions and the actions are written using C. \n",
        "> * Next is to invoke flex on the .l file and it will create a lex.yy.cc file that contains Finite Automata encoding all the rules and also the code for actions.\n",
        "> * Afterwards, the .cc file is compiled normally and linked to the lex library that provides a simple main that will repeatedly call yylex until it reaches EOF\n",
        "\n",
        "\n",
        "\n",
        "\n",
        "\n",
        "\n",
        "\n"
      ],
      "metadata": {
        "id": "_5sNJzUOrs0s"
      }
    }
  ]
}