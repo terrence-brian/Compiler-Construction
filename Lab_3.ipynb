{
  "nbformat": 4,
  "nbformat_minor": 0,
  "metadata": {
    "colab": {
      "provenance": [],
      "toc_visible": true,
      "authorship_tag": "ABX9TyMytpoIxIE/RoswGg5AkkSR",
      "include_colab_link": true
    },
    "kernelspec": {
      "name": "python3",
      "display_name": "Python 3"
    },
    "language_info": {
      "name": "python"
    }
  },
  "cells": [
    {
      "cell_type": "markdown",
      "metadata": {
        "id": "view-in-github",
        "colab_type": "text"
      },
      "source": [
        "<a href=\"https://colab.research.google.com/github/terrence-brian/Compiler-Construction/blob/main/Lab_3.ipynb\" target=\"_parent\"><img src=\"https://colab.research.google.com/assets/colab-badge.svg\" alt=\"Open In Colab\"/></a>"
      ]
    },
    {
      "cell_type": "markdown",
      "source": [
        "Group members\n",
        "\n",
        "ICS 4B\n",
        "\n",
        "* Regina Mbari - 121543\n",
        "* Kathlene Sumba - 120689\n",
        "* Natalie Aoya - 121600\n",
        "* Levi Kamara - 123558\n",
        "* Terrence Oyoo - 122846"
      ],
      "metadata": {
        "id": "tv1hfPxlF46i"
      }
    },
    {
      "cell_type": "code",
      "source": [
        "# Flex input file that checks if the input is a valid Kenyan phone number\n",
        "/*** Rule Section has three rules, first rule\n",
        "matches with valid Kenyan phone numbers, second rule\n",
        "matches with any character except newline and\n",
        "third rule does not take input after the enter***/\n",
        "\n",
        "%%\n",
        "[0][7+1][0-9]{8} {printf(\"%s is a valid Kenyan phone number\\n\", yytext);}\n",
        ".+     {printf(\"%s is invalid\\n\", yytext);}\n",
        "\\n    {return 0;}\n",
        "%%\n",
        " \n",
        "/*** Code Section***/\n",
        "int yywrap(){}\n",
        "int main(){\n",
        "\n",
        "; /*** Receive input from a file ***/\n",
        "; FILE *fp;\n",
        "; char filename[50];\n",
        "; printf(\"Enter the filename: \\n\");\n",
        "; scanf(\"%s\",filename);\n",
        "; fp = fopen(filename,\"r\");\n",
        "; yyin = fp; \n",
        "\n",
        "yylex();\n",
        "\n",
        "return 0;\n",
        "}"
      ],
      "metadata": {
        "id": "-5WhvX-gVAjs"
      },
      "execution_count": null,
      "outputs": []
    }
  ]
}