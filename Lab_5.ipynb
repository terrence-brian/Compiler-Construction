{
  "nbformat": 4,
  "nbformat_minor": 0,
  "metadata": {
    "colab": {
      "provenance": [],
      "include_colab_link": true
    },
    "kernelspec": {
      "name": "python3",
      "display_name": "Python 3"
    },
    "language_info": {
      "name": "python"
    }
  },
  "cells": [
    {
      "cell_type": "markdown",
      "metadata": {
        "id": "view-in-github",
        "colab_type": "text"
      },
      "source": [
        "<a href=\"https://colab.research.google.com/github/terrence-brian/Compiler-Construction/blob/main/Lab_5.ipynb\" target=\"_parent\"><img src=\"https://colab.research.google.com/assets/colab-badge.svg\" alt=\"Open In Colab\"/></a>"
      ]
    },
    {
      "cell_type": "markdown",
      "source": [
        "Group members\n",
        "\n",
        "ICS 4B\n",
        "\n",
        "- Regina Mbari - 121543\n",
        "- Kathlene Sumba - 120689\n",
        "- Natalie Aoya - 121600\n",
        "- Levi Kamara - 123558\n",
        "- Terrence Oyoo - 122846"
      ],
      "metadata": {
        "id": "wNxY1KXHKrBT"
      }
    },
    {
      "cell_type": "markdown",
      "source": [
        "1. **Review what syntax analysis is and in a few words, describe what this phase of compiler construction entails.** \n",
        "\n",
        "*  Syntax Analysis, often referred to as parsing, is the second phase of a compiler. This is a process which involves checking for the confirmation of rules and grammar on a given input string. The syntactical structure is analysed and the given input is checked to esee if it is in the correct syntax of the programming language or not.\n",
        "*   Syntax Analysis comes after the Lexical Analysis phase. The syntax tree that is developed with the help of a predefined grammar of the language. The parser examines the sequence of token streams which are returned by the lexical analyser and extracts the language constructs which then appear within the sequence. \n",
        "*   The role of syntax analysis is therefore to check the syntactical structure of the given input regardless of whether or not the input is in the correct syntax.\n",
        "\n",
        "\n",
        "\n"
      ],
      "metadata": {
        "id": "9kXtCvFXKyfj"
      }
    },
    {
      "cell_type": "markdown",
      "source": [
        "2. **Using Flex (lexical analyzer) and Bison (yacc), show how one can develop a simple syntax analyzer.**\n",
        "\n",
        "A Syntax Analyzer, also known as a parser, receives token streams from a lexical analyzer. To detect errors in the code, the parser compares the source code (token stream) to the production rules. The production rules are defined in the bison file while the lexical analyzer is defined in the flex file.This phase produces a parse tree or an error message.\n",
        "\n",
        "Tokens are passed from the lexical analysis phase to the syntax analysis phase. The tokens are checked to see if they follow the rules of a specific language, and a parse tree is generated, which is then passed to the next stage in the compiler's front-end process.\n",
        "> An example would be a simple syntax analyzer for a for loop as seen below"
      ],
      "metadata": {
        "id": "bJK3TWOYK3VV"
      }
    },
    {
      "cell_type": "code",
      "source": [
        "#flex file \n",
        "\n",
        "%{  \n",
        "\t#include\"y.tab.h\"\n",
        "\textern int yylval;\n",
        "%}\n",
        "\n",
        "%%\n",
        " /* RULES SECTION */\n",
        "\"for\" {return FOR;}\n",
        "\n",
        "\"=\" {return EQU;}\n",
        "\"++\" {return INC;}  \n",
        "\"--\" {return DEC;}\n",
        " /* RELATIONAL OPERATIONS: */\n",
        "\"<=\" {return LE;}  \n",
        "\">=\" {return GE;}  \n",
        "\">\" {return GT;}  \n",
        "\"<\" {return LT;}  \n",
        "\"!=\" {return NE;}    \n",
        "\"==\" {return EQ;}  \n",
        " /* --------------------- */\n",
        "\"(\" {return OPBR;}\n",
        "\")\" {return CLBR;}\n",
        "\";\" {return SEMIC;}\n",
        " /* Convert string to integer and store it */\n",
        "[0-9]+ {yylval=atoi(yytext);return NUM;}\n",
        " /* yytext[0] holds the first character of the text matched by the current token */ \n",
        "[a-zA-Z]+ {yylval=yytext[0];return ID;} \n",
        "%%"
      ],
      "metadata": {
        "id": "VVHfj1tuoDCR"
      },
      "execution_count": null,
      "outputs": []
    },
    {
      "cell_type": "markdown",
      "source": [
        "The rules section of the bison file contains the production rules for defining a correct for loop, any input that does not follow the format will throw an error"
      ],
      "metadata": {
        "id": "D2UJVIozqaH8"
      }
    },
    {
      "cell_type": "code",
      "source": [
        "# bison file\n",
        "\n",
        "%{\n",
        "#include<stdio.h>\n",
        "#include<stdlib.h>\n",
        "// To avoid warning, we include below definitions:\n",
        "int yylex();\n",
        "void yyerror(const char *s);\n",
        "%}\n",
        "\n",
        "%token FOR NUM OPBR CLBR INC DEC ID SEMIC GE NE LT GT LE EQ EQU \n",
        "// Operator precedence and associativity:\n",
        "%right '=' \n",
        "%left GE NE LT GT LE EQ  \n",
        "%left '+' '-'  \n",
        "%left '*' '/'  \n",
        "%right '^'   \n",
        "\n",
        "%%\n",
        "// RULES SECTION: \n",
        "\n",
        "S : ST { printf(\"\\nACCEPTED\\n\"); exit(0); }\n",
        "\n",
        "ST : FOR OPBR Expr1 SEMIC Expr2 SEMIC Expr3 CLBR \n",
        "| FOR OPBR SEMIC SEMIC CLBR\t// for( ; ; )\n",
        "\n",
        "Expr1 : ID EQU ID \n",
        "| ID EQU NUM // int i=0\n",
        "\n",
        "Expr2 : ID RELOP ID\n",
        "| ID RELOP NUM\n",
        "\n",
        "Expr3 : ID INC\n",
        "| ID DEC\n",
        "\n",
        "RELOP : LT  \n",
        "| GT  \n",
        "| EQ  \n",
        "| LE  \n",
        "| GE  \n",
        "| NE \n",
        ";\n",
        "\n",
        "%%\n",
        "\n",
        "#include\"lex.yy.c\"  \n",
        "int main() {   \n",
        "\tyyparse();  \n",
        "\treturn yylex();  \n",
        "}  \n",
        "\n",
        "void yyerror(const char *s){ printf(\"\\nERROR\\n\"); }\n",
        "int yywrap(){ return 1; }\n"
      ],
      "metadata": {
        "id": "JGrBtJupqMyw"
      },
      "execution_count": null,
      "outputs": []
    }
  ]
}